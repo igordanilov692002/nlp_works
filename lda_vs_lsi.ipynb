{
 "cells": [
  {
   "cell_type": "markdown",
   "id": "babce54c-814e-4df5-9497-ff12721e8fe4",
   "metadata": {},
   "source": [
    "# предобработка данных"
   ]
  },
  {
   "cell_type": "code",
   "execution_count": 60,
   "id": "125321f7-df37-4c04-9900-2ee5bd6415f8",
   "metadata": {},
   "outputs": [],
   "source": [
    "from sklearn.feature_extraction.text import TfidfVectorizer\n",
    "from sklearn.decomposition import TruncatedSVD\n",
    "import numpy as np\n",
    "from sklearn.decomposition import TruncatedSVD\n",
    "from sklearn.pipeline import Pipeline\n",
    "from sklearn.model_selection import GridSearchCV\n",
    "from sklearn.tree import DecisionTreeClassifier\n",
    "from sklearn.model_selection import train_test_split\n",
    "import scipy.sparse as sp\n",
    "from tqdm.notebook import tqdm\n",
    "import string\n",
    "import nltk\n",
    "from nltk.corpus import stopwords\n",
    "from nltk.tokenize import word_tokenize\n",
    "from nltk.stem import WordNetLemmatizer\n",
    "import re\n",
    "import numpy as np\n",
    "import matplotlib.pyplot as plt\n",
    "from catboost import CatBoostClassifier\n",
    "from sklearn.metrics import fbeta_score"
   ]
  },
  {
   "cell_type": "code",
   "execution_count": 32,
   "id": "7e71ad65-a65b-4f5f-a258-9c4c169b4016",
   "metadata": {},
   "outputs": [],
   "source": [
    "import string\n",
    "import nltk\n",
    "from gensim.models import LdaModel\n",
    "from gensim.corpora import Dictionary\n",
    "from nltk.corpus import stopwords\n",
    "from nltk.tokenize import word_tokenize\n",
    "from nltk.stem import WordNetLemmatizer\n",
    "import re"
   ]
  },
  {
   "cell_type": "code",
   "execution_count": 33,
   "id": "9c37bd20-7751-4c4d-91af-ee65442ae093",
   "metadata": {},
   "outputs": [],
   "source": [
    "import warnings\n",
    "warnings.filterwarnings(\"ignore\")"
   ]
  },
  {
   "cell_type": "code",
   "execution_count": 34,
   "id": "df816f3d-0671-4092-85c6-b07479893274",
   "metadata": {},
   "outputs": [
    {
     "name": "stdout",
     "output_type": "stream",
     "text": [
      "Всего элементов: 2245\n",
      "ко-во элементов из класса 0: 480\n",
      "ко-во элементов из класса 1: 584\n",
      "ко-во элементов из класса 2: 591\n"
     ]
    }
   ],
   "source": [
    "from sklearn.datasets import fetch_20newsgroups\n",
    "number_of_topic = 3\n",
    "newsgroups_train = fetch_20newsgroups(subset='train')\n",
    "indices = np.where((newsgroups_train.target >= 0) & (newsgroups_train.target <= number_of_topic))[0]\n",
    "texts = [newsgroups_train.data[i] for i in indices]\n",
    "target = np.array([newsgroups_train.target[i] for i in indices])\n",
    "print(f\"Всего элементов: {target.shape[0]}\")\n",
    "for i in range(number_of_topic):\n",
    "    count = np.count_nonzero(target == i)\n",
    "    print(f\"ко-во элементов из класса {i}: {count}\")"
   ]
  },
  {
   "cell_type": "code",
   "execution_count": 35,
   "id": "70b2ff7d-c432-412c-9a9c-a5f2a0ff5be1",
   "metadata": {},
   "outputs": [],
   "source": [
    "def lemmatize_tokens(tokens):\n",
    "    lemmatizer = WordNetLemmatizer()\n",
    "\n",
    "    lemmatized_tokens = [lemmatizer.lemmatize(token) for token in tokens]\n",
    "    \n",
    "    return lemmatized_tokens\n",
    "\n",
    "\n",
    "def preprocess_text(text): \n",
    "    # Удаление пунктуации\n",
    "    text = re.sub(r'[^\\w\\s]', '', text)\n",
    "    \n",
    "    tokens = word_tokenize(text)\n",
    "\n",
    "    stop_words = set(stopwords.words('english'))\n",
    "    \n",
    "    tokens = [token for token in tokens if token not in stop_words]\n",
    "\n",
    "    lemmatized_tokens = lemmatize_tokens(tokens)\n",
    "    \n",
    "    return lemmatized_tokens"
   ]
  },
  {
   "cell_type": "code",
   "execution_count": 36,
   "id": "97f0e3c4-3679-4fce-8402-4f168a59ed95",
   "metadata": {},
   "outputs": [
    {
     "data": {
      "text/plain": [
       "['From', 'jgreenamber', 'Joe', 'Green', 'Subject']"
      ]
     },
     "execution_count": 36,
     "metadata": {},
     "output_type": "execute_result"
    }
   ],
   "source": [
    "tokenized_corpus = [preprocess_text(i) for i in texts]\n",
    "tokenized_corpus[0][:5]"
   ]
  },
  {
   "cell_type": "markdown",
   "id": "9a888ba6-6d74-46f9-b5f8-e7c2df85f578",
   "metadata": {},
   "source": [
    "# представление данных LDA"
   ]
  },
  {
   "cell_type": "code",
   "execution_count": 37,
   "id": "2b7502ea-7ca9-4c36-9eb5-5b060674c21a",
   "metadata": {},
   "outputs": [],
   "source": [
    "def lda_repo(tokenized_corpus, num_topics=15):\n",
    "    # Создание словаря\n",
    "    dictionary = Dictionary(tokenized_corpus)\n",
    "    \n",
    "    # Преобразование текстов в мешок слов\n",
    "    bow_corpus = [dictionary.doc2bow(text) for text in tokenized_corpus]\n",
    "    \n",
    "    # Обучение модели LDA\n",
    "    lda_model = LdaModel(\n",
    "        corpus=bow_corpus,  # Мешок слов\n",
    "        id2word=dictionary,  # Словарь\n",
    "        num_topics=num_topics,  # Количество тем\n",
    "        passes=10,  # Количество итераций по корпусу\n",
    "        iterations=100,  # Количество итераций для оценки параметров\n",
    "        random_state=42  # Зафиксированный случайный seed для воспроизводимости результатов\n",
    "    )\n",
    "    return lda_model, bow_corpus"
   ]
  },
  {
   "cell_type": "code",
   "execution_count": null,
   "id": "92127b5b-209f-49b0-8347-460b31a384b4",
   "metadata": {},
   "outputs": [],
   "source": []
  },
  {
   "cell_type": "code",
   "execution_count": 38,
   "id": "757b6466-788a-43b8-8593-8688857ee8a2",
   "metadata": {},
   "outputs": [],
   "source": [
    "best_param = 1810\n",
    "lda_model, bow_corpus = lda_repo(tokenized_corpus, best_param)"
   ]
  },
  {
   "cell_type": "code",
   "execution_count": 39,
   "id": "314eb150-b950-46ae-9088-caa453b83591",
   "metadata": {},
   "outputs": [
    {
     "data": {
      "application/vnd.jupyter.widget-view+json": {
       "model_id": "7ac6c849214d4745a158e3d2f3fa5176",
       "version_major": 2,
       "version_minor": 0
      },
      "text/plain": [
       "  0%|          | 0/2245 [00:00<?, ?it/s]"
      ]
     },
     "metadata": {},
     "output_type": "display_data"
    }
   ],
   "source": [
    "# получаем тематические векторы\n",
    "lda_vec = []\n",
    "for i in tqdm(range(len(target))):\n",
    "    doc_topics = lda_model.get_document_topics(bow_corpus[i])\n",
    "    doc_vec = np.zeros(best_param)\n",
    "    for topic, prob in doc_topics:\n",
    "        #top_numb = int(re.sub(r'[a-zA-Z]', '', topic))\n",
    "        doc_vec[topic] = prob\n",
    "    lda_vec.append(doc_vec)"
   ]
  },
  {
   "cell_type": "markdown",
   "id": "3a417a1d-378f-439a-b564-ffb0704532d3",
   "metadata": {},
   "source": [
    "# представление данных lsi"
   ]
  },
  {
   "cell_type": "code",
   "execution_count": 41,
   "id": "c099f459-54d3-42f9-b564-e81dba2d017f",
   "metadata": {},
   "outputs": [],
   "source": [
    "def lemmatize_tokens(tokens):\n",
    "    lemmatizer = WordNetLemmatizer()\n",
    "\n",
    "    lemmatized_tokens = [lemmatizer.lemmatize(token) for token in tokens]\n",
    "    \n",
    "    return lemmatized_tokens\n",
    "\n",
    "\n",
    "def preprocess_text(text): \n",
    "    # Удаление пунктуации\n",
    "    text = re.sub(r'[^\\w\\s]', '', text)\n",
    "    \n",
    "    tokens = word_tokenize(text)\n",
    "\n",
    "    stop_words = set(stopwords.words('english'))\n",
    "    \n",
    "    tokens = [token for token in tokens if token not in stop_words]\n",
    "\n",
    "    lemmatized_tokens = lemmatize_tokens(tokens)\n",
    "    \n",
    "    return \" \".join(lemmatized_tokens)"
   ]
  },
  {
   "cell_type": "code",
   "execution_count": 43,
   "id": "e0fa3aa6-cce5-4eb2-b3e5-7fe3adb81253",
   "metadata": {},
   "outputs": [
    {
     "data": {
      "text/plain": [
       "'From jgreenamber Joe Green Subject Re Weitek P9000 Organizat'"
      ]
     },
     "execution_count": 43,
     "metadata": {},
     "output_type": "execute_result"
    }
   ],
   "source": [
    "corpus = [preprocess_text(i) for i in texts]\n",
    "corpus[0][:60]"
   ]
  },
  {
   "cell_type": "code",
   "execution_count": 44,
   "id": "077fc057-ebf2-404e-9a8d-a717725c05ab",
   "metadata": {},
   "outputs": [],
   "source": [
    "tfidf_vectorizer = TfidfVectorizer()\n",
    "\n",
    "tfidf_matrix = tfidf_vectorizer.fit_transform(corpus)"
   ]
  },
  {
   "cell_type": "code",
   "execution_count": 45,
   "id": "76a4a759-5cbc-425f-9d4d-f468bc9ce30d",
   "metadata": {},
   "outputs": [],
   "source": [
    "mini_size = 1646 # best size"
   ]
  },
  {
   "cell_type": "code",
   "execution_count": 46,
   "id": "9bc1dbbb-e478-49fb-a2c0-9b9f5cfff0ad",
   "metadata": {},
   "outputs": [],
   "source": [
    "lsa_model = TruncatedSVD(n_components=mini_size)\n",
    "lsa_vectors = lsa_model.fit_transform(tfidf_matrix)"
   ]
  },
  {
   "cell_type": "markdown",
   "id": "c278d179-546f-47be-988c-d5e4f65f13b0",
   "metadata": {},
   "source": [
    "# обучение моделей lsi (gbm, adaboost)"
   ]
  },
  {
   "cell_type": "code",
   "execution_count": 72,
   "id": "e492e003-e87a-47f2-99aa-c027d503859c",
   "metadata": {},
   "outputs": [],
   "source": [
    "#pip install catboost"
   ]
  },
  {
   "cell_type": "markdown",
   "id": "0660f9cc-4631-4d6d-ae01-09185183644d",
   "metadata": {},
   "source": [
    "F2 = (1 + β^2) * (precision * recall) / (β^2 * precision + recall)"
   ]
  },
  {
   "cell_type": "code",
   "execution_count": 75,
   "id": "f0ff7f2c-f645-4585-be43-fe0578dec4bc",
   "metadata": {},
   "outputs": [],
   "source": [
    "X_train, X_test, y_train, y_test = train_test_split(lsa_vectors, target, test_size=0.2, random_state=42)"
   ]
  },
  {
   "cell_type": "markdown",
   "id": "f5018abe-33bd-49bf-88f2-1ae81ef728dc",
   "metadata": {},
   "source": [
    "### gbm"
   ]
  },
  {
   "cell_type": "code",
   "execution_count": 77,
   "id": "6b080f89-51b4-4c2b-95d9-b1acec427538",
   "metadata": {
    "collapsed": true,
    "jupyter": {
     "outputs_hidden": true
    },
    "scrolled": true
   },
   "outputs": [
    {
     "data": {
      "application/vnd.jupyter.widget-view+json": {
       "model_id": "956a6312194c4496817e1456eca0245f",
       "version_major": 2,
       "version_minor": 0
      },
      "text/plain": [
       "MetricVisualizer(layout=Layout(align_self='stretch', height='500px'))"
      ]
     },
     "metadata": {},
     "output_type": "display_data"
    },
    {
     "data": {
      "text/plain": [
       "<catboost.core.CatBoostClassifier at 0x16b8c3eb0>"
      ]
     },
     "execution_count": 77,
     "metadata": {},
     "output_type": "execute_result"
    }
   ],
   "source": [
    "train_pool = Pool(X_train, label=y_train)\n",
    "test_pool = Pool(X_test, label=y_test)\n",
    "\n",
    "CatBoost = CatBoostClassifier(iterations=400, learning_rate=0.1, random_seed=42, loss_function='MultiClass')\n",
    "CatBoost.fit(train_pool, eval_set=test_pool, verbose=False, plot=True)"
   ]
  },
  {
   "cell_type": "code",
   "execution_count": 78,
   "id": "154933b6-292e-42a2-80be-41cf2c1fc55c",
   "metadata": {},
   "outputs": [
    {
     "data": {
      "image/png": "[encoded data removed]",
      "text/plain": [
       "<Figure size 1000x600 with 1 Axes>"
      ]
     },
     "metadata": {},
     "output_type": "display_data"
    }
   ],
   "source": [
    "val_losses = CatBoost.get_evals_result()['validation']['MultiClass']\n",
    "train_losses = CatBoost.get_evals_result()['learn']['MultiClass']\n",
    "plt.figure(figsize=(10, 6))\n",
    "plt.plot(np.arange(1, len(val_losses) + 1), val_losses, color='red')\n",
    "plt.plot(np.arange(1, len(train_losses) + 1), train_losses, color='blue')\n",
    "plt.xlabel('Количество итераций')\n",
    "plt.ylabel('Функция потерь')\n",
    "plt.title('Изменение функции потерь от количества итераций')\n",
    "plt.grid(True)\n",
    "plt.show()"
   ]
  },
  {
   "cell_type": "code",
   "execution_count": 79,
   "id": "7771715f-fb7a-4081-9c22-7aafe17e7bfb",
   "metadata": {},
   "outputs": [
    {
     "name": "stdout",
     "output_type": "stream",
     "text": [
      "F2-мера: 0.866933480529298\n"
     ]
    }
   ],
   "source": [
    "y_pred = CatBoost.predict(X_test)\n",
    "f2_score = fbeta_score(y_test, y_pred, beta=2, average='macro')\n",
    "print(\"F2-мера:\", f2_score)"
   ]
  },
  {
   "cell_type": "markdown",
   "id": "63b135bd-85e7-42f1-b665-96aa19b1574e",
   "metadata": {},
   "source": [
    "### adaboost"
   ]
  },
  {
   "cell_type": "code",
   "execution_count": 83,
   "id": "c539275b-9b0f-44a8-bd78-2d588fb2041d",
   "metadata": {},
   "outputs": [],
   "source": [
    "from sklearn.ensemble import AdaBoostClassifier\n",
    "\n",
    "AdaBoostClassifier = AdaBoostClassifier(n_estimators=150, random_state=42)\n",
    "AdaBoostClassifier.fit(X_train, y_train)\n",
    "\n",
    "y_pred = AdaBoostClassifier.predict(X_test)"
   ]
  },
  {
   "cell_type": "code",
   "execution_count": 84,
   "id": "4e6b11a9-48d1-45bb-9b76-e37bf1958a89",
   "metadata": {},
   "outputs": [
    {
     "name": "stdout",
     "output_type": "stream",
     "text": [
      "F2-мера: 0.5969420058165641\n"
     ]
    }
   ],
   "source": [
    "y_pred = AdaBoostClassifier.predict(X_test)\n",
    "f2_score = fbeta_score(y_test, y_pred, beta=2, average='macro')\n",
    "print(\"F2-мера:\", f2_score)"
   ]
  },
  {
   "cell_type": "markdown",
   "id": "192eaf30-511f-4d96-86aa-0906b1c533f0",
   "metadata": {},
   "source": [
    "# обучение моделей lda (gbm, adaboost)"
   ]
  },
  {
   "cell_type": "code",
   "execution_count": 85,
   "id": "70f12726-8c95-4e8d-be3f-023b2daca29c",
   "metadata": {},
   "outputs": [],
   "source": [
    "X_train, X_test, y_train, y_test = train_test_split(lda_vec, target, test_size=0.2, random_state=42)"
   ]
  },
  {
   "cell_type": "markdown",
   "id": "34a2264d-c1a5-406e-8524-dda7db6305f4",
   "metadata": {},
   "source": [
    "## gbm"
   ]
  },
  {
   "cell_type": "code",
   "execution_count": 86,
   "id": "5d937c25-e02c-45f3-a56c-cb1061ea9495",
   "metadata": {
    "collapsed": true,
    "jupyter": {
     "outputs_hidden": true
    }
   },
   "outputs": [
    {
     "data": {
      "application/vnd.jupyter.widget-view+json": {
       "model_id": "7bfb8b15a6a248f4959fc0ef8d2f1274",
       "version_major": 2,
       "version_minor": 0
      },
      "text/plain": [
       "MetricVisualizer(layout=Layout(align_self='stretch', height='500px'))"
      ]
     },
     "metadata": {},
     "output_type": "display_data"
    },
    {
     "data": {
      "text/plain": [
       "<catboost.core.CatBoostClassifier at 0x289d0be80>"
      ]
     },
     "execution_count": 86,
     "metadata": {},
     "output_type": "execute_result"
    }
   ],
   "source": [
    "train_pool = Pool(X_train, label=y_train)\n",
    "test_pool = Pool(X_test, label=y_test)\n",
    "\n",
    "CatBoost = CatBoostClassifier(iterations=150, learning_rate=0.1, random_seed=42, loss_function='MultiClass')\n",
    "CatBoost.fit(train_pool, eval_set=test_pool, verbose=False, plot=True)"
   ]
  },
  {
   "cell_type": "code",
   "execution_count": 87,
   "id": "1430c8b0-aeca-4c0b-a7c4-d153066194a6",
   "metadata": {},
   "outputs": [
    {
     "data": {
      "image/png": "[encoded data removed]",
      "text/plain": [
       "<Figure size 1000x600 with 1 Axes>"
      ]
     },
     "metadata": {},
     "output_type": "display_data"
    }
   ],
   "source": [
    "val_losses = CatBoost.get_evals_result()['validation']['MultiClass']\n",
    "train_losses = CatBoost.get_evals_result()['learn']['MultiClass']\n",
    "plt.figure(figsize=(10, 6))\n",
    "plt.plot(np.arange(1, len(val_losses) + 1), val_losses, color='red')\n",
    "plt.plot(np.arange(1, len(train_losses) + 1), train_losses, color='blue')\n",
    "plt.xlabel('Количество итераций')\n",
    "plt.ylabel('Функция потерь')\n",
    "plt.title('Изменение функции потерь от количества итераций')\n",
    "plt.grid(True)\n",
    "plt.show()"
   ]
  },
  {
   "cell_type": "code",
   "execution_count": 88,
   "id": "7db876bb-b31e-44e2-b5a7-9de4d7ca42cf",
   "metadata": {},
   "outputs": [
    {
     "name": "stdout",
     "output_type": "stream",
     "text": [
      "F2-мера: 0.7744389853340543\n"
     ]
    }
   ],
   "source": [
    "y_pred = CatBoost.predict(X_test)\n",
    "f2_score = fbeta_score(y_test, y_pred, beta=2, average='macro')\n",
    "print(\"F2-мера:\", f2_score)"
   ]
  },
  {
   "cell_type": "markdown",
   "id": "6d4cb172-a84a-4b89-9638-cb6dbb099889",
   "metadata": {},
   "source": [
    "## adaboost"
   ]
  },
  {
   "cell_type": "code",
   "execution_count": 89,
   "id": "f0073e8d-d49a-4f3b-bc75-5614e47d80dd",
   "metadata": {},
   "outputs": [],
   "source": [
    "from sklearn.ensemble import AdaBoostClassifier\n",
    "\n",
    "AdaBoostClassifier = AdaBoostClassifier(n_estimators=150, random_state=42)\n",
    "AdaBoostClassifier.fit(X_train, y_train)\n",
    "\n",
    "y_pred = AdaBoostClassifier.predict(X_test)"
   ]
  },
  {
   "cell_type": "code",
   "execution_count": 90,
   "id": "ad82dbcd-6d01-411e-aed2-88816947f85e",
   "metadata": {},
   "outputs": [
    {
     "name": "stdout",
     "output_type": "stream",
     "text": [
      "F2-мера: 0.6005525412599838\n"
     ]
    }
   ],
   "source": [
    "y_pred = AdaBoostClassifier.predict(X_test)\n",
    "f2_score = fbeta_score(y_test, y_pred, beta=2, average='macro')\n",
    "print(\"F2-мера:\", f2_score)"
   ]
  },
  {
   "cell_type": "markdown",
   "id": "5861264b-afc5-403d-9dd6-e9d11aa9cb03",
   "metadata": {},
   "source": [
    "# Результаты"
   ]
  },
  {
   "cell_type": "code",
   "execution_count": 92,
   "id": "cf328ba0-45d2-46f4-b536-c320b3640058",
   "metadata": {},
   "outputs": [
    {
     "data": {
      "text/html": [
       "<div>\n",
       "<style scoped>\n",
       "    .dataframe tbody tr th:only-of-type {\n",
       "        vertical-align: middle;\n",
       "    }\n",
       "\n",
       "    .dataframe tbody tr th {\n",
       "        vertical-align: top;\n",
       "    }\n",
       "\n",
       "    .dataframe thead th {\n",
       "        text-align: right;\n",
       "    }\n",
       "</style>\n",
       "<table border=\"1\" class=\"dataframe\">\n",
       "  <thead>\n",
       "    <tr style=\"text-align: right;\">\n",
       "      <th></th>\n",
       "      <th>random forest</th>\n",
       "      <th>gbm</th>\n",
       "      <th>adaboost</th>\n",
       "    </tr>\n",
       "  </thead>\n",
       "  <tbody>\n",
       "    <tr>\n",
       "      <th>lsi</th>\n",
       "      <td>0.791693</td>\n",
       "      <td>0.866933</td>\n",
       "      <td>0.596942</td>\n",
       "    </tr>\n",
       "    <tr>\n",
       "      <th>lda</th>\n",
       "      <td>0.610615</td>\n",
       "      <td>0.774439</td>\n",
       "      <td>0.600553</td>\n",
       "    </tr>\n",
       "  </tbody>\n",
       "</table>\n",
       "</div>"
      ],
      "text/plain": [
       "     random forest       gbm  adaboost\n",
       "lsi       0.791693  0.866933  0.596942\n",
       "lda       0.610615  0.774439  0.600553"
      ]
     },
     "execution_count": 92,
     "metadata": {},
     "output_type": "execute_result"
    }
   ],
   "source": [
    "import pandas as pd\n",
    "\n",
    "data = {\n",
    "    'random forest': [0.7916930308972283, 0.6106153023551465],\n",
    "    'gbm': [0.866933480529298, 0.7744389853340543],\n",
    "    'adaboost': [0.5969420058165641, 0.6005525412599838]\n",
    "}\n",
    "\n",
    "df = pd.DataFrame(data)\n",
    "\n",
    "df.index = ['lsi','lda']\n",
    "\n",
    "df"
   ]
  },
  {
   "cell_type": "code",
   "execution_count": null,
   "id": "53f1adf5-7524-4c81-9359-45b67327b7d6",
   "metadata": {},
   "outputs": [],
   "source": []
  }
 ],
 "metadata": {
  "kernelspec": {
   "display_name": "Python 3 (ipykernel)",
   "language": "python",
   "name": "python3"
  },
  "language_info": {
   "codemirror_mode": {
    "name": "ipython",
    "version": 3
   },
   "file_extension": ".py",
   "mimetype": "text/x-python",
   "name": "python",
   "nbconvert_exporter": "python",
   "pygments_lexer": "ipython3",
   "version": "3.9.6"
  }
 },
 "nbformat": 4,
 "nbformat_minor": 5
}

{
 "cells": [
  {
   "cell_type": "markdown",
   "id": "d82b5ec0-ddb4-43af-baa8-9896df65d140",
   "metadata": {},
   "source": [
    "Задание по классификации - добавляется еще один классификатор: Multi-layer Perceptron\n",
    "https://scikit-learn.org/stable/modules/neural_networks_supervised.html\n"
   ]
  },
  {
   "cell_type": "markdown",
   "id": "85db096e-d17b-49c4-8c2a-3e32b6772518",
   "metadata": {},
   "source": [
    "## Подготовка векторного представления lsi lda\n"
   ]
  },
  {
   "cell_type": "code",
   "execution_count": 4,
   "id": "3e2268af-3bd4-4510-95be-7bd17eb12402",
   "metadata": {},
   "outputs": [
    {
     "name": "stderr",
     "output_type": "stream",
     "text": [
      "/Users/igorkopylov/PycharmProjects/liner_model/venv/lib/python3.9/site-packages/urllib3/__init__.py:35: NotOpenSSLWarning: urllib3 v2 only supports OpenSSL 1.1.1+, currently the 'ssl' module is compiled with 'LibreSSL 2.8.3'. See: https://github.com/urllib3/urllib3/issues/3020\n",
      "  warnings.warn(\n"
     ]
    }
   ],
   "source": [
    "import warnings\n",
    "import numpy as np\n",
    "import re\n",
    "import string\n",
    "import nltk\n",
    "from gensim.models import LdaModel\n",
    "from gensim.corpora import Dictionary\n",
    "from nltk.corpus import stopwords\n",
    "from nltk.tokenize import word_tokenize\n",
    "from nltk.stem import WordNetLemmatizer\n",
    "from sklearn.feature_extraction.text import TfidfVectorizer\n",
    "from sklearn.feature_extraction.text import CountVectorizer\n",
    "import spacy\n",
    "from tqdm.notebook import tqdm\n",
    "from gensim import corpora, models\n",
    "from nltk import pos_tag\n",
    "from sklearn.decomposition import TruncatedSVD\n",
    "from sklearn.model_selection import train_test_split\n",
    "from sklearn.metrics import fbeta_score\n",
    "from catboost import CatBoostClassifier, Pool\n",
    "warnings.filterwarnings(\"ignore\")"
   ]
  },
  {
   "cell_type": "code",
   "execution_count": 5,
   "id": "d64acfaf-ad5c-4b10-828b-3e7def2cfe13",
   "metadata": {},
   "outputs": [
    {
     "name": "stdout",
     "output_type": "stream",
     "text": [
      "Всего элементов: 2245\n",
      "ко-во элементов из класса 0: 480\n",
      "ко-во элементов из класса 1: 584\n",
      "ко-во элементов из класса 2: 591\n"
     ]
    }
   ],
   "source": [
    "from sklearn.datasets import fetch_20newsgroups\n",
    "number_of_topic = 3\n",
    "newsgroups_train = fetch_20newsgroups(subset='train')\n",
    "indices = np.where((newsgroups_train.target >= 0) & (newsgroups_train.target <= number_of_topic))[0]\n",
    "texts = [newsgroups_train.data[i] for i in indices]\n",
    "target = np.array([newsgroups_train.target[i] for i in indices])\n",
    "print(f\"Всего элементов: {target.shape[0]}\")\n",
    "for i in range(number_of_topic):\n",
    "    count = np.count_nonzero(target == i)\n",
    "    print(f\"ко-во элементов из класса {i}: {count}\")"
   ]
  },
  {
   "cell_type": "code",
   "execution_count": 6,
   "id": "f87fe94c-5ab4-4525-b74a-78ad30a9bbc4",
   "metadata": {},
   "outputs": [],
   "source": [
    "def spacy_lemmatize_tokens(tokens):\n",
    "    \n",
    "    nlp = spacy.load(\"en_core_web_sm\")\n",
    "\n",
    "    # Лемматизация слова \"running\"\n",
    "    doc = nlp(' '.join(tokens))\n",
    "    lemmas = [token.lemma_ for token in doc]\n",
    "    return lemmas\n",
    "\n",
    "def lemmatize_tokens(tokens):\n",
    "    lemmatizer = WordNetLemmatizer()\n",
    "    lemmatized_tokens = [lemmatizer.lemmatize(token) for token in tokens]\n",
    "    \n",
    "    return lemmatized_tokens\n",
    "\n",
    "\n",
    "def preprocess_text(text): \n",
    "    # Удаление пунктуации\n",
    "    text = re.sub(r'[^\\w\\s]', '', text)\n",
    "    tokens = word_tokenize(text)\n",
    "    stop_words = set(stopwords.words('english'))\n",
    "    tokens = [token for token in tokens if token not in stop_words]\n",
    "    lemmatized_tokens = lemmatize_tokens(tokens)  #spacy_lemmatize_tokens(tokens)\n",
    "    return lemmatized_tokens"
   ]
  },
  {
   "cell_type": "code",
   "execution_count": 7,
   "id": "24d7a921-962f-4343-8fa6-ecf65abcfe01",
   "metadata": {},
   "outputs": [
    {
     "data": {
      "text/plain": [
       "['From', 'jgreenamber', 'Joe', 'Green', 'Subject']"
      ]
     },
     "execution_count": 7,
     "metadata": {},
     "output_type": "execute_result"
    }
   ],
   "source": [
    "tokenized_corpus = [preprocess_text(i) for i in texts]\n",
    "tokenized_corpus[0][:5]"
   ]
  },
  {
   "cell_type": "markdown",
   "id": "73868928-2bbb-486b-b4f9-cc82edf285ca",
   "metadata": {},
   "source": [
    "### LDA"
   ]
  },
  {
   "cell_type": "code",
   "execution_count": 8,
   "id": "d79a808c-9d54-40c2-bb89-b09ff6f109de",
   "metadata": {},
   "outputs": [],
   "source": [
    "def lda_repo(tokenized_corpus, num_topics=15):\n",
    "    # Создание словаря\n",
    "    dictionary = Dictionary(tokenized_corpus)\n",
    "    \n",
    "    # Преобразование текстов в мешок слов\n",
    "    bow_corpus = [dictionary.doc2bow(text) for text in tokenized_corpus]\n",
    "    \n",
    "    # Обучение модели LDA\n",
    "    lda_model = LdaModel(\n",
    "        corpus=bow_corpus,  # Мешок слов\n",
    "        id2word=dictionary,  # Словарь\n",
    "        num_topics=num_topics,  # Количество тем\n",
    "        passes=10,  # Количество итераций по корпусу\n",
    "        iterations=100,  # Количество итераций для оценки параметров\n",
    "        random_state=42  # Зафиксированный случайный seed для воспроизводимости результатов\n",
    "    )\n",
    "    return lda_model, bow_corpus"
   ]
  },
  {
   "cell_type": "code",
   "execution_count": 11,
   "id": "8a24c260-3c86-44d9-b1c9-380089e89dfa",
   "metadata": {},
   "outputs": [],
   "source": [
    "best_param = 10\n",
    "lda_model, bow_corpus = lda_repo(tokenized_corpus, best_param)"
   ]
  },
  {
   "cell_type": "code",
   "execution_count": 12,
   "id": "c6834c3c-b64e-4873-91d5-dd3174ba2735",
   "metadata": {},
   "outputs": [
    {
     "data": {
      "application/vnd.jupyter.widget-view+json": {
       "model_id": "df07f75cb12b4013b14446da26c389e1",
       "version_major": 2,
       "version_minor": 0
      },
      "text/plain": [
       "  0%|          | 0/2245 [00:00<?, ?it/s]"
      ]
     },
     "metadata": {},
     "output_type": "display_data"
    }
   ],
   "source": [
    "# получаем тематические векторы\n",
    "lda_vec = []\n",
    "for i in tqdm(range(len(target))):\n",
    "    doc_topics = lda_model.get_document_topics(bow_corpus[i])\n",
    "    doc_vec = np.zeros(best_param)\n",
    "    for topic, prob in doc_topics:\n",
    "        #top_numb = int(re.sub(r'[a-zA-Z]', '', topic))\n",
    "        doc_vec[topic] = prob\n",
    "    lda_vec.append(doc_vec)"
   ]
  },
  {
   "cell_type": "code",
   "execution_count": 13,
   "id": "58a0a1d9-e389-491a-99ac-98a74ecc9f33",
   "metadata": {},
   "outputs": [
    {
     "name": "stdout",
     "output_type": "stream",
     "text": [
      "ready\n"
     ]
    }
   ],
   "source": [
    "print(\"ready\")"
   ]
  },
  {
   "cell_type": "markdown",
   "id": "489413fc-f1e8-41e3-b86d-79478fa1c399",
   "metadata": {
    "jp-MarkdownHeadingCollapsed": true
   },
   "source": [
    "### LSI"
   ]
  },
  {
   "cell_type": "code",
   "execution_count": 14,
   "id": "bcfcd66b-ee08-47e3-a12b-2e221caf72c8",
   "metadata": {},
   "outputs": [],
   "source": [
    "def lemmatize_tokens(tokens):\n",
    "    lemmatizer = WordNetLemmatizer()\n",
    "\n",
    "    lemmatized_tokens = [lemmatizer.lemmatize(token) for token in tokens]\n",
    "    \n",
    "    return lemmatized_tokens\n",
    "\n",
    "\n",
    "def preprocess_text(text): \n",
    "    # Удаление пунктуации\n",
    "    text = re.sub(r'[^\\w\\s]', '', text)\n",
    "    \n",
    "    tokens = word_tokenize(text)\n",
    "\n",
    "    stop_words = set(stopwords.words('english'))\n",
    "    \n",
    "    tokens = [token for token in tokens if token not in stop_words]\n",
    "\n",
    "    lemmatized_tokens = lemmatize_tokens(tokens)\n",
    "    \n",
    "    return \" \".join(lemmatized_tokens)"
   ]
  },
  {
   "cell_type": "code",
   "execution_count": 15,
   "id": "e08843a3-78c5-4d47-9531-eb382a404cdc",
   "metadata": {},
   "outputs": [
    {
     "data": {
      "text/plain": [
       "'From jgreenamber Joe Green Subject Re Weitek P9000 Organizat'"
      ]
     },
     "execution_count": 15,
     "metadata": {},
     "output_type": "execute_result"
    }
   ],
   "source": [
    "corpus = [preprocess_text(i) for i in texts]\n",
    "corpus[0][:60]"
   ]
  },
  {
   "cell_type": "code",
   "execution_count": 17,
   "id": "90cb9e93-6dd8-4f1e-92ec-8b6beb23d2aa",
   "metadata": {},
   "outputs": [],
   "source": [
    "tfidf_vectorizer = TfidfVectorizer()\n",
    "\n",
    "tfidf_matrix = tfidf_vectorizer.fit_transform(corpus)\n",
    "mini_size = 100 #  1680 best size\n",
    "lsa_model = TruncatedSVD(n_components=mini_size)\n",
    "lsi_vectors = lsa_model.fit_transform(tfidf_matrix)"
   ]
  },
  {
   "cell_type": "code",
   "execution_count": 18,
   "id": "77167f54-24f4-47cd-9465-4bab4778a4e8",
   "metadata": {},
   "outputs": [
    {
     "name": "stdout",
     "output_type": "stream",
     "text": [
      "ready\n"
     ]
    }
   ],
   "source": [
    "print('ready')"
   ]
  },
  {
   "cell_type": "markdown",
   "id": "187fe2e0-1cd6-46b4-94a2-643db2bec123",
   "metadata": {
    "jp-MarkdownHeadingCollapsed": true
   },
   "source": [
    "### params"
   ]
  },
  {
   "cell_type": "markdown",
   "id": "1561c1d0-00c0-442f-beb4-f5f2da5e300f",
   "metadata": {},
   "source": [
    "hidden_layer_sizesarray-like of shape(n_layers - 2,), default=(100,)\n",
    "The ith element represents the number of neurons in the ith hidden layer.\n",
    "\n",
    "activation{‘identity’, ‘logistic’, ‘tanh’, ‘relu’}, default=’relu’\n",
    "Activation function for the hidden layer.\n",
    "\n",
    "‘identity’, no-op activation, useful to implement linear bottleneck, returns f(x) = x\n",
    "‘logistic’, the logistic sigmoid function, returns f(x) = 1 / (1 + exp(-x)).\n",
    "‘tanh’, the hyperbolic tan function, returns f(x) = tanh(x).\n",
    "‘relu’, the rectified linear unit function, returns f(x) = max(0, x)\n",
    "solver{‘lbfgs’, ‘sgd’, ‘adam’}, default=’adam’\n",
    "The solver for weight optimization.\n",
    "\n",
    "‘lbfgs’ is an optimizer in the family of quasi-Newton methods.\n",
    "‘sgd’ refers to stochastic gradient descent.\n",
    "‘adam’ refers to a stochastic gradient-based optimizer proposed by Kingma, Diederik, and Jimmy Ba\n",
    "Note: The default solver ‘adam’ works pretty well on relatively large datasets (with thousands of training samples or more) in terms of both training time and validation score. For small datasets, however, ‘lbfgs’ can converge faster and perform better.\n",
    "\n",
    "alphafloat, default=0.0001\n",
    "Strength of the L2 regularization term. The L2 regularization term is divided by the sample size when added to the loss.\n",
    "\n",
    "batch_sizeint, default=’auto’\n",
    "Size of minibatches for stochastic optimizers. If the solver is ‘lbfgs’, the classifier will not use minibatch. When set to “auto”, batch_size=min(200, n_samples).\n",
    "\n",
    "learning_rate{‘constant’, ‘invscaling’, ‘adaptive’}, default=’constant’\n",
    "Learning rate schedule for weight updates.\n",
    "\n",
    "‘constant’ is a constant learning rate given by ‘learning_rate_init’.\n",
    "‘invscaling’ gradually decreases the learning rate at each time step ‘t’ using an inverse scaling exponent of ‘power_t’. effective_learning_rate = learning_rate_init / pow(t, power_t)\n",
    "‘adaptive’ keeps the learning rate constant to ‘learning_rate_init’ as long as training loss keeps decreasing. Each time two consecutive epochs fail to decrease training loss by at least tol, or fail to increase validation score by at least tol if ‘early_stopping’ is on, the current learning rate is divided by 5.\n",
    "Only used when solver='sgd'.\n",
    "\n",
    "learning_rate_initfloat, default=0.001\n",
    "The initial learning rate used. It controls the step-size in updating the weights. Only used when solver=’sgd’ or ‘adam’.\n",
    "\n",
    "power_tfloat, default=0.5\n",
    "The exponent for inverse scaling learning rate. It is used in updating effective learning rate when the learning_rate is set to ‘invscaling’. Only used when solver=’sgd’.\n",
    "\n",
    "max_iterint, default=200\n",
    "Maximum number of iterations. The solver iterates until convergence (determined by ‘tol’) or this number of iterations. For stochastic solvers (‘sgd’, ‘adam’), note that this determines the number of epochs (how many times each data point will be used), not the number of gradient steps.\n",
    "\n",
    "shufflebool, default=True\n",
    "Whether to shuffle samples in each iteration. Only used when solver=’sgd’ or ‘adam’.\n",
    "\n",
    "random_stateint, RandomState instance, default=None\n",
    "Determines random number generation for weights and bias initialization, train-test split if early stopping is used, and batch sampling when solver=’sgd’ or ‘adam’. Pass an int for reproducible results across multiple function calls. See Glossary.\n",
    "\n",
    "tolfloat, default=1e-4\n",
    "Tolerance for the optimization. When the loss or score is not improving by at least tol for n_iter_no_change consecutive iterations, unless learning_rate is set to ‘adaptive’, convergence is considered to be reached and training stops.\n",
    "\n",
    "verbosebool, default=False\n",
    "Whether to print progress messages to stdout.\n",
    "\n",
    "warm_startbool, default=False\n",
    "When set to True, reuse the solution of the previous call to fit as initialization, otherwise, just erase the previous solution. See the Glossary.\n",
    "\n",
    "momentumfloat, default=0.9\n",
    "Momentum for gradient descent update. Should be between 0 and 1. Only used when solver=’sgd’.\n",
    "\n",
    "nesterovs_momentumbool, default=True\n",
    "Whether to use Nesterov’s momentum. Only used when solver=’sgd’ and momentum > 0.\n",
    "\n",
    "early_stoppingbool, default=False\n",
    "Whether to use early stopping to terminate training when validation score is not improving. If set to true, it will automatically set aside 10% of training data as validation and terminate training when validation score is not improving by at least tol for n_iter_no_change consecutive epochs. The split is stratified, except in a multilabel setting. If early stopping is False, then the training stops when the training loss does not improve by more than tol for n_iter_no_change consecutive passes over the training set. Only effective when solver=’sgd’ or ‘adam’.\n",
    "\n",
    "validation_fractionfloat, default=0.1\n",
    "The proportion of training data to set aside as validation set for early stopping. Must be between 0 and 1. Only used if early_stopping is True.\n",
    "\n",
    "beta_1float, default=0.9\n",
    "Exponential decay rate for estimates of first moment vector in adam, should be in [0, 1). Only used when solver=’adam’.\n",
    "\n",
    "beta_2float, default=0.999\n",
    "Exponential decay rate for estimates of second moment vector in adam, should be in [0, 1). Only used when solver=’adam’.\n",
    "\n",
    "epsilonfloat, default=1e-8\n",
    "Value for numerical stability in adam. Only used when solver=’adam’.\n",
    "\n",
    "n_iter_no_changeint, default=10\n",
    "Maximum number of epochs to not meet tol improvement. Only effective when solver=’sgd’ or ‘adam’.\n",
    "\n",
    "New in version 0.20.\n",
    "max_funint, default=15000\n",
    "Only used when solver=’lbfgs’. Maximum number of loss function calls. The solver iterates until convergence (determined by ‘tol’), number of iterations reaches max_iter, or this number of loss function calls. Note that number of loss function calls will be greater than or equal to the number of iterations for the MLPClassifier.\n",
    "\n",
    "New in version 0.22."
   ]
  },
  {
   "cell_type": "markdown",
   "id": "59659199-a660-4ed3-bdee-01e69e85dcf2",
   "metadata": {},
   "source": [
    "## Обучение"
   ]
  },
  {
   "cell_type": "markdown",
   "id": "f9cb2800-01e6-4942-b29d-75b85169954b",
   "metadata": {},
   "source": [
    "### LSI"
   ]
  },
  {
   "cell_type": "code",
   "execution_count": 19,
   "id": "2a194543-796d-4c4a-9fa0-56dd7ba2529f",
   "metadata": {},
   "outputs": [
    {
     "name": "stdout",
     "output_type": "stream",
     "text": [
      "размер датасета: (2245, 100)\n",
      "количество классов: 4\n"
     ]
    }
   ],
   "source": [
    "print(f\"размер датасета: {(len(lsi_vectors), len(lsi_vectors[0]))}\")\n",
    "print(f\"количество классов: {len(set(target))}\")"
   ]
  },
  {
   "cell_type": "code",
   "execution_count": 20,
   "id": "498a4026-3448-42c8-b4c8-62373a8c7f36",
   "metadata": {},
   "outputs": [],
   "source": [
    "from sklearn.neural_network import MLPClassifier\n",
    "from sklearn.model_selection import train_test_split\n",
    "from sklearn.metrics import classification_report\n",
    "\n",
    "X_train, X_test, y_train, y_test = train_test_split(lsi_vectors, target, test_size=0.2, random_state=42)\n",
    "# input_size = (len(lsi_vectors[0]))\n",
    "# out_size = len(set(target))\n",
    "mlp = MLPClassifier(hidden_layer_sizes=(100, 50),  max_iter=1, warm_start=True, random_state=42)\n",
    "# max_iter - параметр для sgb (к-во итераций по датасету для одного прохода)\n"
   ]
  },
  {
   "cell_type": "code",
   "execution_count": 21,
   "id": "47af243e-b9fc-46db-9644-3886cc27a7ad",
   "metadata": {},
   "outputs": [],
   "source": [
    "from tqdm import tqdm\n",
    "import matplotlib.pyplot as plt"
   ]
  },
  {
   "cell_type": "code",
   "execution_count": 22,
   "id": "4aacd23b-463a-40ca-8d9a-0bf028c12a18",
   "metadata": {},
   "outputs": [
    {
     "name": "stderr",
     "output_type": "stream",
     "text": [
      "Training: 100%|█████████████████████████████████████████████████████████████████████████████████████████████████████| 1000/1000 [00:19<00:00, 51.60it/s]\n"
     ]
    }
   ],
   "source": [
    "train_errors = []\n",
    "test_errors = []\n",
    "for i in tqdm(range(1000), desc=\"Training\", position=0, leave=True):\n",
    "    mlp.partial_fit(X_train, y_train, classes=np.unique(y_train))\n",
    "    \n",
    "    train_errors.append(mlp.score(X_train, y_train))\n",
    "    test_errors.append(mlp.score(X_test, y_test))"
   ]
  },
  {
   "cell_type": "code",
   "execution_count": 23,
   "id": "52dc26a9-7048-4d37-9e94-8026df27a4d5",
   "metadata": {},
   "outputs": [
    {
     "data": {
      "image/png": "[encoded data removed]",
      "text/plain": [
       "<Figure size 1000x600 with 1 Axes>"
      ]
     },
     "metadata": {},
     "output_type": "display_data"
    }
   ],
   "source": [
    "plt.figure(figsize=(10, 6))\n",
    "plt.plot(range(1, len(train_errors) + 1), train_errors, label='Train Error')\n",
    "plt.plot(range(1, len(test_errors) + 1), test_errors, label='Test Error')\n",
    "plt.title('Train/Test Error')\n",
    "plt.xlabel('Iteration')\n",
    "plt.ylabel('Error')\n",
    "plt.legend()\n",
    "plt.show()"
   ]
  },
  {
   "cell_type": "code",
   "execution_count": 25,
   "id": "e078436f-0643-4b5a-b801-e1dfeb89127b",
   "metadata": {},
   "outputs": [
    {
     "name": "stdout",
     "output_type": "stream",
     "text": [
      "Лучшие гиперпараметры:\n",
      "{'activation': 'relu', 'hidden_layer_sizes': (100, 50), 'max_iter': 100}\n",
      "\n",
      "Отчет о классификации:\n",
      "              precision    recall  f1-score   support\n",
      "\n",
      "           0       1.00      0.99      0.99        98\n",
      "           1       0.89      0.83      0.86       117\n",
      "           2       0.84      0.84      0.84       129\n",
      "           3       0.79      0.86      0.82       105\n",
      "\n",
      "    accuracy                           0.88       449\n",
      "   macro avg       0.88      0.88      0.88       449\n",
      "weighted avg       0.88      0.88      0.88       449\n",
      "\n"
     ]
    }
   ],
   "source": [
    "from sklearn.model_selection import GridSearchCV\n",
    "\n",
    "mlp = MLPClassifier(random_state=42)\n",
    "\n",
    "param_grid = {\n",
    "    'hidden_layer_sizes': [(50, 30), (100, 50), (50, 50)],\n",
    "    'activation': ['relu', 'tanh', 'logistic'],\n",
    "    'max_iter': [100, 200, 300]\n",
    "}\n",
    "\n",
    "grid_search = GridSearchCV(mlp, param_grid, cv=3)\n",
    "\n",
    "grid_search.fit(X_train, y_train)\n",
    "\n",
    "print(\"Лучшие гиперпараметры:\")\n",
    "print(grid_search.best_params_)\n",
    "\n",
    "y_pred = grid_search.predict(X_test)\n",
    "print(\"\\nОтчет о классификации:\")\n",
    "print(classification_report(y_test, y_pred))"
   ]
  },
  {
   "cell_type": "markdown",
   "id": "857edb0f-a267-4ad0-8173-df0f67c0ce11",
   "metadata": {},
   "source": [
    "# Lda\n"
   ]
  },
  {
   "cell_type": "code",
   "execution_count": 26,
   "id": "4012cd65-7cd3-4b80-a7fd-4c2e7c252fc1",
   "metadata": {},
   "outputs": [
    {
     "name": "stderr",
     "output_type": "stream",
     "text": [
      "Training: 100%|█████████████████████████████████████████████████████████████████████████████████████████████████████| 1000/1000 [00:18<00:00, 54.10it/s]\n"
     ]
    }
   ],
   "source": [
    "from sklearn.neural_network import MLPClassifier\n",
    "from sklearn.model_selection import train_test_split\n",
    "from sklearn.metrics import classification_report\n",
    "\n",
    "X_train, X_test, y_train, y_test = train_test_split(lsi_vectors, target, test_size=0.2, random_state=42)\n",
    "mlp = MLPClassifier(hidden_layer_sizes=(100, 50),  max_iter=1, warm_start=True, random_state=42)\n",
    "train_errors = []\n",
    "test_errors = []\n",
    "for i in tqdm(range(1000), desc=\"Training\", position=0, leave=True):\n",
    "    mlp.partial_fit(X_train, y_train, classes=np.unique(y_train))\n",
    "    \n",
    "    train_errors.append(mlp.score(X_train, y_train))\n",
    "    test_errors.append(mlp.score(X_test, y_test))"
   ]
  },
  {
   "cell_type": "code",
   "execution_count": 27,
   "id": "46a783d5-260f-43f7-a22d-ab6e2c9237e8",
   "metadata": {},
   "outputs": [
    {
     "data": {
      "image/png": "[encoded data removed]",
      "text/plain": [
       "<Figure size 1000x600 with 1 Axes>"
      ]
     },
     "metadata": {},
     "output_type": "display_data"
    }
   ],
   "source": [
    "plt.figure(figsize=(10, 6))\n",
    "plt.plot(range(1, len(train_errors) + 1), train_errors, label='Train Error')\n",
    "plt.plot(range(1, len(test_errors) + 1), test_errors, label='Test Error')\n",
    "plt.title('Train/Test Error')\n",
    "plt.xlabel('Iteration')\n",
    "plt.ylabel('Error')\n",
    "plt.legend()\n",
    "plt.show()"
   ]
  },
  {
   "cell_type": "code",
   "execution_count": null,
   "id": "881bf85d-f3e6-47c5-a847-55535c094f10",
   "metadata": {},
   "outputs": [],
   "source": []
  }
 ],
 "metadata": {
  "kernelspec": {
   "display_name": "Python 3 (ipykernel)",
   "language": "python",
   "name": "python3"
  },
  "language_info": {
   "codemirror_mode": {
    "name": "ipython",
    "version": 3
   },
   "file_extension": ".py",
   "mimetype": "text/x-python",
   "name": "python",
   "nbconvert_exporter": "python",
   "pygments_lexer": "ipython3",
   "version": "3.9.6"
  }
 },
 "nbformat": 4,
 "nbformat_minor": 5
}

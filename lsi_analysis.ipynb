{
 "cells": [
  {
   "cell_type": "markdown",
   "id": "a9069f46-59d6-43d1-adc3-d7a248a421f5",
   "metadata": {},
   "source": [
    "Задание практика №2:  обучить классификатор и классифицировать тексты, используя для представления документов вектора полученные с помощью LSA (латентно-семантический анализ).  В случае ЛСА используется матрица терм-документ, ячейки матрицы содержат вес TF-IDF каждого терма (слова) в соответствующем документе. До построения матрицы тексты нужно предобратотать. Подсказка ->"
   ]
  },
  {
   "cell_type": "markdown",
   "id": "a7057829-8e7c-46a3-a60c-4787be509a67",
   "metadata": {},
   "source": [
    "# LSI model"
   ]
  },
  {
   "cell_type": "code",
   "execution_count": 28,
   "id": "11b50f2f-e4b7-4b78-991c-49fb36b7bdc9",
   "metadata": {},
   "outputs": [],
   "source": [
    "from sklearn.feature_extraction.text import TfidfVectorizer\n",
    "from sklearn.decomposition import TruncatedSVD\n",
    "import numpy as np\n",
    "from sklearn.decomposition import TruncatedSVD\n",
    "from sklearn.pipeline import Pipeline\n",
    "from sklearn.model_selection import GridSearchCV\n",
    "import math\n",
    "from sklearn.metrics import f1_score\n",
    "from sklearn.metrics import accuracy_score\n",
    "from sklearn.tree import DecisionTreeClassifier\n",
    "from sklearn.model_selection import train_test_split\n",
    "import scipy.sparse as sp"
   ]
  },
  {
   "cell_type": "code",
   "execution_count": 3,
   "id": "9a8753a2-b06b-467a-8f89-f770cf2b98a8",
   "metadata": {},
   "outputs": [],
   "source": [
    "import warnings\n",
    "warnings.filterwarnings(\"ignore\")"
   ]
  },
  {
   "cell_type": "code",
   "execution_count": 4,
   "id": "555c26f6-fcb8-4038-8f6e-87c7368b1ac4",
   "metadata": {},
   "outputs": [
    {
     "name": "stdout",
     "output_type": "stream",
     "text": [
      "Всего элементов: 2245\n",
      "ко-во элементов из класса 0: 480\n",
      "ко-во элементов из класса 1: 584\n",
      "ко-во элементов из класса 2: 591\n"
     ]
    }
   ],
   "source": [
    "from sklearn.datasets import fetch_20newsgroups\n",
    "number_of_topic = 3\n",
    "newsgroups_train = fetch_20newsgroups(subset='train')\n",
    "indices = np.where((newsgroups_train.target >= 0) & (newsgroups_train.target <= number_of_topic))[0]\n",
    "texts = [newsgroups_train.data[i] for i in indices]\n",
    "target = np.array([newsgroups_train.target[i] for i in indices])\n",
    "print(f\"Всего элементов: {target.shape[0]}\")\n",
    "for i in range(number_of_topic):\n",
    "    count = np.count_nonzero(target == i)\n",
    "    print(f\"ко-во элементов из класса {i}: {count}\")"
   ]
  },
  {
   "cell_type": "code",
   "execution_count": 13,
   "id": "99007af8-5a0d-403c-b839-5cda6fa97b21",
   "metadata": {},
   "outputs": [],
   "source": [
    "import string\n",
    "import nltk\n",
    "from nltk.corpus import stopwords\n",
    "from nltk.tokenize import word_tokenize\n",
    "from nltk.stem import WordNetLemmatizer\n",
    "import re"
   ]
  },
  {
   "cell_type": "code",
   "execution_count": 14,
   "id": "b6944ca2-c43d-47f5-b708-0d1e22fc3de7",
   "metadata": {},
   "outputs": [],
   "source": [
    "def lemmatize_tokens(tokens):\n",
    "    lemmatizer = WordNetLemmatizer()\n",
    "\n",
    "    lemmatized_tokens = [lemmatizer.lemmatize(token) for token in tokens]\n",
    "    \n",
    "    return lemmatized_tokens\n",
    "\n",
    "\n",
    "def preprocess_text(text): \n",
    "    # Удаление пунктуации\n",
    "    text = re.sub(r'[^\\w\\s]', '', text)\n",
    "    \n",
    "    tokens = word_tokenize(text)\n",
    "\n",
    "    stop_words = set(stopwords.words('english'))\n",
    "    \n",
    "    tokens = [token for token in tokens if token not in stop_words]\n",
    "\n",
    "    lemmatized_tokens = lemmatize_tokens(tokens)\n",
    "    \n",
    "    return \" \".join(lemmatized_tokens)"
   ]
  },
  {
   "cell_type": "code",
   "execution_count": 15,
   "id": "0e60fb96-f6f6-4659-a8c7-12515496b5fc",
   "metadata": {},
   "outputs": [
    {
     "data": {
      "text/plain": [
       "'From: jgreen@amber (Joe Green)\\nSubject: Re: Weitek P9000 ?\\nO'"
      ]
     },
     "execution_count": 15,
     "metadata": {},
     "output_type": "execute_result"
    }
   ],
   "source": [
    "texts[0][:60]"
   ]
  },
  {
   "cell_type": "code",
   "execution_count": 16,
   "id": "d7ad6105-4f5b-479c-971b-ec660428615e",
   "metadata": {},
   "outputs": [
    {
     "data": {
      "text/plain": [
       "'From jgreenamber Joe Green Subject Re Weitek P9000 Organizat'"
      ]
     },
     "execution_count": 16,
     "metadata": {},
     "output_type": "execute_result"
    }
   ],
   "source": [
    "corpus = [preprocess_text(i) for i in texts]\n",
    "corpus[0][:60]"
   ]
  },
  {
   "cell_type": "code",
   "execution_count": 17,
   "id": "14066260-dc6c-43f7-8afe-e5db3e2035e2",
   "metadata": {},
   "outputs": [],
   "source": [
    "tfidf_vectorizer = TfidfVectorizer()\n",
    "\n",
    "tfidf_matrix = tfidf_vectorizer.fit_transform(corpus)"
   ]
  },
  {
   "cell_type": "code",
   "execution_count": 41,
   "id": "62c78bfe-fe9a-46dd-b99e-1a009de7d6ec",
   "metadata": {},
   "outputs": [
    {
     "data": {
      "text/plain": [
       "(2245, 50716)"
      ]
     },
     "execution_count": 41,
     "metadata": {},
     "output_type": "execute_result"
    }
   ],
   "source": [
    "tfidf_matrix.shape"
   ]
  },
  {
   "cell_type": "code",
   "execution_count": 47,
   "id": "44040220-dde4-40e1-bb03-96584a6c6120",
   "metadata": {},
   "outputs": [],
   "source": [
    "mini_size = None\n",
    "for i in range(2246, 500, -150):\n",
    "    svd = TruncatedSVD(n_components=i)\n",
    "    \n",
    "    X_approx = svd.fit_transform(tfidf_matrix)\n",
    "    \n",
    "    # Вычисление нормы tfidf_matrix\n",
    "    tfidfm_norm = sp.linalg.norm(tfidf_matrix, ord=np.inf)\n",
    "    \n",
    "    X_approx_inverse = svd.inverse_transform(X_approx)\n",
    "    \n",
    "    error = np.linalg.norm(tfidf_matrix - X_approx_inverse) / tfidfm_norm\n",
    "    if error <= 0.25:\n",
    "        mini_size = i\n",
    "    else:\n",
    "        break"
   ]
  },
  {
   "cell_type": "code",
   "execution_count": 48,
   "id": "ad34e763-ad44-46e7-ab90-0b371397cd9f",
   "metadata": {},
   "outputs": [
    {
     "data": {
      "text/plain": [
       "1646"
      ]
     },
     "execution_count": 48,
     "metadata": {},
     "output_type": "execute_result"
    }
   ],
   "source": [
    "mini_size"
   ]
  },
  {
   "cell_type": "code",
   "execution_count": 50,
   "id": "2bc86719-5bdc-41b0-b23e-6b011cc8aae7",
   "metadata": {},
   "outputs": [],
   "source": [
    "lsa_model = TruncatedSVD(n_components=mini_size)  # Выбор количества компонентов\n",
    "lsa_vectors = lsa_model.fit_transform(tfidf_matrix)"
   ]
  },
  {
   "cell_type": "markdown",
   "id": "05a0edeb-d8ef-4800-b9eb-5af624149a7e",
   "metadata": {},
   "source": [
    "## Обучение классификатора"
   ]
  },
  {
   "cell_type": "code",
   "execution_count": 57,
   "id": "e57bce0e-b63d-4c54-b667-55506e6f7644",
   "metadata": {
    "scrolled": true
   },
   "outputs": [
    {
     "name": "stdout",
     "output_type": "stream",
     "text": [
      "Лучшая глубина дерева для 6\n",
      "значение F1-score:0.7916930308972283\n"
     ]
    }
   ],
   "source": [
    "classifier = DecisionTreeClassifier()  \n",
    "\n",
    "X_train, X_test, y_train, y_test = train_test_split(lsa_vectors, target, test_size=0.2, random_state=42)\n",
    "\n",
    "param_grid = {'max_depth': range(1, 10, 1)}\n",
    "\n",
    "grid_search = GridSearchCV(classifier, param_grid, cv=5, scoring='accuracy')\n",
    "grid_search.fit(X_train, y_train)\n",
    "\n",
    "best_model = grid_search.best_estimator_\n",
    "\n",
    "y_pred = best_model.predict(X_test)\n",
    "\n",
    "f1 = f1_score(y_test, y_pred, average='weighted')\n",
    "\n",
    "print(f\"Лучшая глубина дерева для {grid_search.best_params_['max_depth']}\")\n",
    "print(f\"значение F1-score:{f1}\")"
   ]
  }
 ],
 "metadata": {
  "kernelspec": {
   "display_name": "Python 3 (ipykernel)",
   "language": "python",
   "name": "python3"
  },
  "language_info": {
   "codemirror_mode": {
    "name": "ipython",
    "version": 3
   },
   "file_extension": ".py",
   "mimetype": "text/x-python",
   "name": "python",
   "nbconvert_exporter": "python",
   "pygments_lexer": "ipython3",
   "version": "3.9.6"
  }
 },
 "nbformat": 4,
 "nbformat_minor": 5
}
